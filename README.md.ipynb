{
 "cells": [
  {
   "cell_type": "markdown",
   "id": "71338df4",
   "metadata": {},
   "source": [
    "# EDA-on-Data-Science-Job-Salaries - Project Overview\n",
    "The purpose of this project is to explore every feature in the Dataset to uncover insights.\n",
    "\n",
    "## Resources\n",
    "* Data Source: The data used is in a csv file containing 550 records and 13 features. \n",
    "  Available on: file folder \n",
    "* Python Version: 3.9.12\n",
    "* Packages: pandas, numpy, matplotlib, seaborn, wordcloud.\n",
    "\n",
    "\n",
    "\n",
    "\n",
    "\n",
    "## Summary of insights:\n",
    "\n",
    "⦁\tCount of each laptop according their brand.\n",
    "⦁\tBar graph according to Operating sys.\n",
    "⦁\tRemove the duplicates.\n",
    "⦁\tAdd new columns according to their GB\n",
    "⦁\tlaptops has ScreenResolution as IPS Panel Retina Display\n",
    "                 2880x1800\n",
    "⦁\tCreate Pie dig on Typename of Laptop\n",
    "⦁\tLaptop names which weight between 1.5 to 2.5 kg\n",
    "⦁\tconvert currency euros to rupees\n",
    "⦁\t laptop according to their highest price to lowest\n",
    "⦁\t laptop name which contain 256GB SSD + 2TB HDD\n",
    "⦁\tcreate a pie dig according to laptop brands names.\n",
    "⦁\tAdd new column which laptop belong to I3 intel generation.\n",
    "⦁\tlaptops has GPU is Nvidia GeForce GTX 1070\n",
    "\n"
   ]
  }
 ],
 "metadata": {
  "kernelspec": {
   "display_name": "Python 3 (ipykernel)",
   "language": "python",
   "name": "python3"
  },
  "language_info": {
   "codemirror_mode": {
    "name": "ipython",
    "version": 3
   },
   "file_extension": ".py",
   "mimetype": "text/x-python",
   "name": "python",
   "nbconvert_exporter": "python",
   "pygments_lexer": "ipython3",
   "version": "3.11.5"
  }
 },
 "nbformat": 4,
 "nbformat_minor": 5
}
